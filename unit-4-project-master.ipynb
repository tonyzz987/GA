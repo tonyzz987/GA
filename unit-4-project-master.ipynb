{
 "cells": [
  {
   "cell_type": "markdown",
   "id": "d3326bd2",
   "metadata": {},
   "source": [
    "## This is to predict how much is someone's medical bill going to be, depending on their BMI, smoking habit, gender, number of children, and age"
   ]
  },
  {
   "cell_type": "code",
   "execution_count": 1,
   "id": "2a7a604a",
   "metadata": {},
   "outputs": [],
   "source": [
    "import pandas as pd\n",
    "import numpy as np\n",
    "import matplotlib.pyplot as plt\n",
    "\n",
    "# Display plots in-notebook\n",
    "%matplotlib inline\n",
    "\n",
    "# Increase default figure and font sizes for easier viewing.\n",
    "plt.rcParams['figure.figsize'] = (18, 8)\n",
    "plt.rcParams['font.size'] = 14"
   ]
  },
  {
   "cell_type": "code",
   "execution_count": 2,
   "id": "8c91a2ff",
   "metadata": {},
   "outputs": [],
   "source": [
    "#importing the data\n",
    "bill = pd.read_csv('insurance.csv')"
   ]
  },
  {
   "cell_type": "code",
   "execution_count": 3,
   "id": "57e3be0b",
   "metadata": {},
   "outputs": [
    {
     "data": {
      "text/html": [
       "<div>\n",
       "<style scoped>\n",
       "    .dataframe tbody tr th:only-of-type {\n",
       "        vertical-align: middle;\n",
       "    }\n",
       "\n",
       "    .dataframe tbody tr th {\n",
       "        vertical-align: top;\n",
       "    }\n",
       "\n",
       "    .dataframe thead th {\n",
       "        text-align: right;\n",
       "    }\n",
       "</style>\n",
       "<table border=\"1\" class=\"dataframe\">\n",
       "  <thead>\n",
       "    <tr style=\"text-align: right;\">\n",
       "      <th></th>\n",
       "      <th>age</th>\n",
       "      <th>sex</th>\n",
       "      <th>bmi</th>\n",
       "      <th>children</th>\n",
       "      <th>smoker</th>\n",
       "      <th>region</th>\n",
       "      <th>charges</th>\n",
       "    </tr>\n",
       "  </thead>\n",
       "  <tbody>\n",
       "    <tr>\n",
       "      <th>0</th>\n",
       "      <td>19</td>\n",
       "      <td>female</td>\n",
       "      <td>27.900</td>\n",
       "      <td>0</td>\n",
       "      <td>yes</td>\n",
       "      <td>southwest</td>\n",
       "      <td>16884.92400</td>\n",
       "    </tr>\n",
       "    <tr>\n",
       "      <th>1</th>\n",
       "      <td>18</td>\n",
       "      <td>male</td>\n",
       "      <td>33.770</td>\n",
       "      <td>1</td>\n",
       "      <td>no</td>\n",
       "      <td>southeast</td>\n",
       "      <td>1725.55230</td>\n",
       "    </tr>\n",
       "    <tr>\n",
       "      <th>2</th>\n",
       "      <td>28</td>\n",
       "      <td>male</td>\n",
       "      <td>33.000</td>\n",
       "      <td>3</td>\n",
       "      <td>no</td>\n",
       "      <td>southeast</td>\n",
       "      <td>4449.46200</td>\n",
       "    </tr>\n",
       "    <tr>\n",
       "      <th>3</th>\n",
       "      <td>33</td>\n",
       "      <td>male</td>\n",
       "      <td>22.705</td>\n",
       "      <td>0</td>\n",
       "      <td>no</td>\n",
       "      <td>northwest</td>\n",
       "      <td>21984.47061</td>\n",
       "    </tr>\n",
       "    <tr>\n",
       "      <th>4</th>\n",
       "      <td>32</td>\n",
       "      <td>male</td>\n",
       "      <td>28.880</td>\n",
       "      <td>0</td>\n",
       "      <td>no</td>\n",
       "      <td>northwest</td>\n",
       "      <td>3866.85520</td>\n",
       "    </tr>\n",
       "  </tbody>\n",
       "</table>\n",
       "</div>"
      ],
      "text/plain": [
       "   age     sex     bmi  children smoker     region      charges\n",
       "0   19  female  27.900         0    yes  southwest  16884.92400\n",
       "1   18    male  33.770         1     no  southeast   1725.55230\n",
       "2   28    male  33.000         3     no  southeast   4449.46200\n",
       "3   33    male  22.705         0     no  northwest  21984.47061\n",
       "4   32    male  28.880         0     no  northwest   3866.85520"
      ]
     },
     "execution_count": 3,
     "metadata": {},
     "output_type": "execute_result"
    }
   ],
   "source": [
    "#How the data looks like\n",
    "bill.head()"
   ]
  },
  {
   "cell_type": "code",
   "execution_count": 4,
   "id": "b46111bd",
   "metadata": {},
   "outputs": [
    {
     "data": {
      "text/html": [
       "<div>\n",
       "<style scoped>\n",
       "    .dataframe tbody tr th:only-of-type {\n",
       "        vertical-align: middle;\n",
       "    }\n",
       "\n",
       "    .dataframe tbody tr th {\n",
       "        vertical-align: top;\n",
       "    }\n",
       "\n",
       "    .dataframe thead th {\n",
       "        text-align: right;\n",
       "    }\n",
       "</style>\n",
       "<table border=\"1\" class=\"dataframe\">\n",
       "  <thead>\n",
       "    <tr style=\"text-align: right;\">\n",
       "      <th></th>\n",
       "      <th>age</th>\n",
       "      <th>sex</th>\n",
       "      <th>bmi</th>\n",
       "      <th>children</th>\n",
       "      <th>smoker</th>\n",
       "      <th>region</th>\n",
       "      <th>charges</th>\n",
       "      <th>smoking_habit</th>\n",
       "      <th>BMI_Classification</th>\n",
       "      <th>cost_class</th>\n",
       "    </tr>\n",
       "  </thead>\n",
       "  <tbody>\n",
       "    <tr>\n",
       "      <th>0</th>\n",
       "      <td>19</td>\n",
       "      <td>female</td>\n",
       "      <td>27.900</td>\n",
       "      <td>0</td>\n",
       "      <td>yes</td>\n",
       "      <td>southwest</td>\n",
       "      <td>16884.92400</td>\n",
       "      <td>1</td>\n",
       "      <td>2</td>\n",
       "      <td>2</td>\n",
       "    </tr>\n",
       "    <tr>\n",
       "      <th>1</th>\n",
       "      <td>18</td>\n",
       "      <td>male</td>\n",
       "      <td>33.770</td>\n",
       "      <td>1</td>\n",
       "      <td>no</td>\n",
       "      <td>southeast</td>\n",
       "      <td>1725.55230</td>\n",
       "      <td>0</td>\n",
       "      <td>3</td>\n",
       "      <td>0</td>\n",
       "    </tr>\n",
       "    <tr>\n",
       "      <th>2</th>\n",
       "      <td>28</td>\n",
       "      <td>male</td>\n",
       "      <td>33.000</td>\n",
       "      <td>3</td>\n",
       "      <td>no</td>\n",
       "      <td>southeast</td>\n",
       "      <td>4449.46200</td>\n",
       "      <td>0</td>\n",
       "      <td>3</td>\n",
       "      <td>0</td>\n",
       "    </tr>\n",
       "    <tr>\n",
       "      <th>3</th>\n",
       "      <td>33</td>\n",
       "      <td>male</td>\n",
       "      <td>22.705</td>\n",
       "      <td>0</td>\n",
       "      <td>no</td>\n",
       "      <td>northwest</td>\n",
       "      <td>21984.47061</td>\n",
       "      <td>0</td>\n",
       "      <td>1</td>\n",
       "      <td>3</td>\n",
       "    </tr>\n",
       "    <tr>\n",
       "      <th>4</th>\n",
       "      <td>32</td>\n",
       "      <td>male</td>\n",
       "      <td>28.880</td>\n",
       "      <td>0</td>\n",
       "      <td>no</td>\n",
       "      <td>northwest</td>\n",
       "      <td>3866.85520</td>\n",
       "      <td>0</td>\n",
       "      <td>2</td>\n",
       "      <td>0</td>\n",
       "    </tr>\n",
       "  </tbody>\n",
       "</table>\n",
       "</div>"
      ],
      "text/plain": [
       "   age     sex     bmi  children smoker     region      charges  \\\n",
       "0   19  female  27.900         0    yes  southwest  16884.92400   \n",
       "1   18    male  33.770         1     no  southeast   1725.55230   \n",
       "2   28    male  33.000         3     no  southeast   4449.46200   \n",
       "3   33    male  22.705         0     no  northwest  21984.47061   \n",
       "4   32    male  28.880         0     no  northwest   3866.85520   \n",
       "\n",
       "   smoking_habit  BMI_Classification  cost_class  \n",
       "0              1                   2           2  \n",
       "1              0                   3           0  \n",
       "2              0                   3           0  \n",
       "3              0                   1           3  \n",
       "4              0                   2           0  "
      ]
     },
     "execution_count": 4,
     "metadata": {},
     "output_type": "execute_result"
    }
   ],
   "source": [
    "#To add and to convert all object values on the table into numeric values, like what I did in the EDA\n",
    "#Converting smoking habit, 1 as smoker, 0 as non smoker\n",
    "condition =[(bill['smoker'] == 'yes'), (bill['smoker'] == 'no')]\n",
    "values = [1,0]\n",
    "bill['smoking_habit'] = np.select(condition, values)\n",
    "\n",
    "#Converting BMI to classes as how the BMI Calculator does\n",
    "condition =[(bill['bmi'] <= 18.5), (bill['bmi'] > 18.5) & (bill['bmi'] <= 24.99),\n",
    "            (bill['bmi'] > 24.99) & (bill['bmi'] <= 29.99), (bill['bmi'] > 29.99) & (bill['bmi'] <= 34.99), \n",
    "            (bill['bmi'] > 34.99) & (bill['bmi'] <= 39.99),(bill['bmi'] > 39.99)]\n",
    "values = [0,1,2,3,4,5]\n",
    "\n",
    "bill['BMI_Classification'] = np.select(condition, values)\n",
    "#As for the values:\n",
    "#0: 'Underweight', 1:'Normal', 2:'Overweight', \n",
    "#3:'Class 1 Obese', 4:'Class 2 Obese', 5:'Morbid Obesity'\n",
    "\n",
    "cost =[(bill['charges'] < 5000), (bill['charges'] >= 5000) & (bill['charges'] < 10000), \n",
    "       (bill['charges'] >= 10000) & (bill['charges'] < 20000),(bill['charges'] >= 20000)]\n",
    "values = [0,1,2,3]\n",
    "#As for the values: 0 is less than 5k, 1 is less than 10k, 2 is less than 20k, 3 is more than 20k\n",
    "\n",
    "bill['cost_class'] = np.select(cost, values)\n",
    "\n",
    "#agegroup =[(bill['age'] <25), (bill['age'] >= 25) & (bill['age'] < 35), (bill['age'] >= 35) & (bill['age'] < 45),\n",
    "#           (bill['age'] >= 45) & (bill['age'] < 55), (bill['age'] >= 55) & (bill['age'] <= 65)]\n",
    "#values = [0,1,2,3, 4]\n",
    "#As for the values: 0 is younger 25, 1 is younger 35, 2 is younger 45, 3 is younger 55, 4 is 65 or younger\n",
    "\n",
    "#bill['age_group'] = np.select(agegroup, values)\n",
    "\n",
    "#Convert the 4 different part of the US into numerical value, NW as 0, NE as 1, SW as 2, SE as 3\n",
    "#location = [(bill['region'] == 'northwest'),(bill['region'] == 'northeast'),\n",
    "#            (bill['region'] == 'southwest'),(bill['region'] == 'southeast')]\n",
    "#values = [0,1,2,3]\n",
    "\n",
    "#bill['location'] = np.select(location, values)\n",
    "\n",
    "#Convert the sexes value in to numeric value, 0 as female, 1 as male\n",
    "#gender = [(bill['sex'] == 'female'),(bill['sex'] == 'male')]\n",
    "#values = [0,1]\n",
    "#bill['gender']=np.select(gender, values)\n",
    "\n",
    "#I decided to remove gender, location as factors as their corrlation is merely 0.057, which is the least significant\n",
    "#among all of the factors. I will also remove the number of children because hospital don't give discount depending\n",
    "#on how many children the patients have, not even \"returning customer\" discount for pregnant women to give birth\n",
    "#multiple times in their hospital. And I tried to put them in an age group, but the result didn't get any more\n",
    "#accurate\n",
    "bill.head()\n"
   ]
  },
  {
   "cell_type": "code",
   "execution_count": 5,
   "id": "0e5a5f45",
   "metadata": {},
   "outputs": [],
   "source": [
    "#I am using the KNN method from sklearn because the charges can basically classified as 3 blobs in the scatter plot\n",
    "#And importing whatever is needed for later\n",
    "from sklearn.neighbors import KNeighborsClassifier\n",
    "from sklearn.model_selection import train_test_split\n",
    "from sklearn import metrics\n",
    "from sklearn import preprocessing\n",
    "from sklearn import utils\n",
    "from sklearn.model_selection import cross_val_score\n",
    "from sklearn.model_selection import GridSearchCV \n",
    "from sklearn.dummy import DummyRegressor"
   ]
  },
  {
   "cell_type": "code",
   "execution_count": 6,
   "id": "11dcefe4",
   "metadata": {},
   "outputs": [],
   "source": [
    "#setting up the feature columns and the predicting result\n",
    "feature_cols = ['smoking_habit', 'age','BMI_Classification']\n",
    "X = bill[feature_cols]\n",
    "y= bill.cost_class\n",
    "#Split X and y into training and testing sets with the random state of 1338, and the train the model with the \n",
    "#nearest neighter as 1\n",
    "X_train, X_test, y_train, y_test = train_test_split(X, y, random_state=1338)"
   ]
  },
  {
   "cell_type": "code",
   "execution_count": 7,
   "id": "58c9b1f0",
   "metadata": {},
   "outputs": [
    {
     "data": {
      "text/plain": [
       "DummyRegressor()"
      ]
     },
     "execution_count": 7,
     "metadata": {},
     "output_type": "execute_result"
    }
   ],
   "source": [
    "#Make a dummy out of this, a dummy regressor and to train it to fit the model\n",
    "dummy_mean = DummyRegressor(strategy='mean')\n",
    "dummy_mean.fit(X_train, y_train)"
   ]
  },
  {
   "cell_type": "code",
   "execution_count": 8,
   "id": "0f41256c",
   "metadata": {},
   "outputs": [
    {
     "name": "stdout",
     "output_type": "stream",
     "text": [
      "1.2289432145521144\n",
      "1.1085771125871733\n"
     ]
    }
   ],
   "source": [
    "#Save Predictions, and the the MSE and the RMSE\n",
    "y_pred_dummy = dummy_mean.predict(X_test)\n",
    "print(metrics.mean_squared_error(y_test, y_pred_dummy))\n",
    "print(np.sqrt(metrics.mean_squared_error(y_test, y_pred_dummy)))"
   ]
  },
  {
   "cell_type": "code",
   "execution_count": 9,
   "id": "4287dbe7",
   "metadata": {},
   "outputs": [
    {
     "data": {
      "text/plain": [
       "array([1.94539474, 0.189847  , 0.59991032, ..., 0.23335539, 0.26935762,\n",
       "       3.66766068])"
      ]
     },
     "execution_count": 9,
     "metadata": {},
     "output_type": "execute_result"
    }
   ],
   "source": [
    "#See how's the linear regression model going to fit, and it turned out we can't draw one line to fit all of the \n",
    "#dots on the scatter plot\n",
    "from sklearn.linear_model import LinearRegression\n",
    "# Instantiate the model.\n",
    "lr = LinearRegression()\n",
    "# Train the model on the entire data set.\n",
    "lr.fit(X, y)\n",
    "# Predict the response values for the observations in X (\"test the model\").\n",
    "lr.predict(X)"
   ]
  },
  {
   "cell_type": "code",
   "execution_count": 10,
   "id": "9b56e884",
   "metadata": {},
   "outputs": [],
   "source": [
    "y_pred = lr.predict(X)"
   ]
  },
  {
   "cell_type": "code",
   "execution_count": 11,
   "id": "40cb504a",
   "metadata": {},
   "outputs": [
    {
     "data": {
      "text/plain": [
       "(1338, 3)"
      ]
     },
     "execution_count": 11,
     "metadata": {},
     "output_type": "execute_result"
    }
   ],
   "source": [
    "X.shape"
   ]
  },
  {
   "cell_type": "code",
   "execution_count": 12,
   "id": "e44045bb",
   "metadata": {},
   "outputs": [
    {
     "data": {
      "text/plain": [
       "(1338,)"
      ]
     },
     "execution_count": 12,
     "metadata": {},
     "output_type": "execute_result"
    }
   ],
   "source": [
    "y.shape"
   ]
  },
  {
   "cell_type": "code",
   "execution_count": 13,
   "id": "8d970fa9",
   "metadata": {},
   "outputs": [
    {
     "name": "stdout",
     "output_type": "stream",
     "text": [
      "[0.7212257100149477, 0.7286995515695067, 0.7473841554559043, 0.7055306427503737, 0.7242152466367712, 0.7092675635276532, 0.7279521674140508, 0.710762331838565, 0.7092675635276532, 0.7085201793721972, 0.7130044843049328, 0.7130044843049327, 0.7010463378176383, 0.6935724962630792, 0.6988041853512706, 0.6890881913303438, 0.6868460388639761, 0.6808669656203289, 0.6808669656203289, 0.6741405082212256, 0.6704035874439462, 0.6629297458893871, 0.6636771300448431, 0.6614349775784754, 0.665171898355755, 0.6636771300448431, 0.6599402092675636, 0.6606875934230194, 0.6606875934230194, 0.6562032884902841, 0.6576980568011958, 0.6562032884902841, 0.6576980568011958, 0.6554559043348281, 0.6562032884902841, 0.6554559043348281, 0.656203288490284, 0.656203288490284, 0.656203288490284, 0.6562032884902841, 0.656203288490284, 0.6554559043348281, 0.6562032884902841, 0.6576980568011958, 0.6554559043348281, 0.6554559043348281, 0.6562032884902841, 0.6562032884902841, 0.6584454409566517, 0.6584454409566517, 0.6591928251121076, 0.6591928251121076, 0.6591928251121076, 0.6576980568011959, 0.6576980568011959, 0.6584454409566517, 0.6584454409566517, 0.6584454409566517, 0.6584454409566517, 0.6599402092675635, 0.6576980568011959, 0.6591928251121076, 0.6591928251121076, 0.6584454409566517, 0.6591928251121076, 0.6591928251121076, 0.6591928251121076, 0.6591928251121076, 0.65695067264574, 0.6562032884902841, 0.6562032884902841, 0.6562032884902841, 0.6562032884902841, 0.6562032884902841, 0.6569506726457399, 0.6562032884902841, 0.6554559043348281, 0.6547085201793722, 0.6547085201793722, 0.6554559043348281, 0.6554559043348281, 0.6554559043348281, 0.6547085201793722, 0.656203288490284, 0.656203288490284, 0.656203288490284, 0.6554559043348281, 0.6576980568011959, 0.6569506726457399, 0.6576980568011959, 0.6576980568011959, 0.6576980568011959, 0.6569506726457399, 0.6576980568011959, 0.6576980568011959, 0.6576980568011959, 0.65695067264574, 0.65695067264574, 0.6576980568011959]\n"
     ]
    }
   ],
   "source": [
    "# list of integers 1 to 99\n",
    "k_range = range(1, 100)\n",
    "# list of scores from k_range\n",
    "k_scores = []\n",
    "# 1. we will loop through reasonable values of  \n",
    "for k in k_range:\n",
    "    # 2. run KNeighborsClassifier with k neighbours\n",
    "    knn = KNeighborsClassifier(n_neighbors=k)\n",
    "    # 3. obtain cross_val_score for KNeighborsClassifier with k neighbours\n",
    "    #in the featured columns, cv=3 because the past error told me so\n",
    "    scores = cross_val_score(knn, X, y, cv=3, scoring='accuracy')\n",
    "    # 4. append mean of scores for k neighbors to k_scores list\n",
    "    k_scores.append(scores.mean())\n",
    "print(k_scores)"
   ]
  },
  {
   "cell_type": "code",
   "execution_count": 14,
   "id": "427e1b19",
   "metadata": {},
   "outputs": [
    {
     "data": {
      "text/plain": [
       "KNeighborsClassifier(n_neighbors=99)"
      ]
     },
     "execution_count": 14,
     "metadata": {},
     "output_type": "execute_result"
    }
   ],
   "source": [
    "#calculating the nearest neighbor's quantitiy to 99 and now trying to fit the training data\n",
    "knn.fit(X_train, y_train)\n"
   ]
  },
  {
   "cell_type": "code",
   "execution_count": 15,
   "id": "dda97218",
   "metadata": {},
   "outputs": [
    {
     "name": "stdout",
     "output_type": "stream",
     "text": [
      "0.6805970149253732\n"
     ]
    }
   ],
   "source": [
    "y_pred_class = knn.predict(X_test)\n",
    "print((metrics.accuracy_score(y_test, y_pred_class)))"
   ]
  },
  {
   "cell_type": "code",
   "execution_count": 16,
   "id": "da1c821e",
   "metadata": {},
   "outputs": [],
   "source": [
    "# Store the predicted response values.\n",
    "y_pred_class = knn.predict(X)"
   ]
  },
  {
   "cell_type": "code",
   "execution_count": 17,
   "id": "5aeb411f",
   "metadata": {},
   "outputs": [
    {
     "data": {
      "text/plain": [
       "array([[0.67676768, 0.01010101, 0.16161616, 0.15151515],\n",
       "       [0.73737374, 0.01010101, 0.1010101 , 0.15151515],\n",
       "       [0.63636364, 0.08080808, 0.17171717, 0.11111111],\n",
       "       ...,\n",
       "       [0.72727273, 0.01010101, 0.09090909, 0.17171717],\n",
       "       [0.7979798 , 0.        , 0.11111111, 0.09090909],\n",
       "       [0.        , 0.        , 0.68686869, 0.31313131]])"
      ]
     },
     "execution_count": 17,
     "metadata": {},
     "output_type": "execute_result"
    }
   ],
   "source": [
    "# Calculate predicted probabilities of class membership.\n",
    "knn.predict_proba(X)"
   ]
  },
  {
   "cell_type": "code",
   "execution_count": 18,
   "id": "ce0131eb",
   "metadata": {},
   "outputs": [],
   "source": [
    "#To get the scores for different k values\n",
    "scores = []\n",
    "for k in range(1,101):\n",
    "    knn = KNeighborsClassifier(n_neighbors=k)\n",
    "    knn.fit(X,y)\n",
    "    pred = knn.predict(X)\n",
    "    score = float(sum(pred == y)) / len(y)\n",
    "    scores.append([k, score])"
   ]
  },
  {
   "cell_type": "code",
   "execution_count": 19,
   "id": "901b5ce4",
   "metadata": {},
   "outputs": [
    {
     "data": {
      "image/png": "[encoded data removed]",
      "text/plain": [
       "<Figure size 1296x576 with 1 Axes>"
      ]
     },
     "metadata": {
      "needs_background": "light"
     },
     "output_type": "display_data"
    }
   ],
   "source": [
    "#It seems like as k increases, the less accurate it is \n",
    "data = pd.DataFrame(scores,columns=['k','score'])\n",
    "data.plot.line(x='k',y='score');"
   ]
  },
  {
   "cell_type": "code",
   "execution_count": 20,
   "id": "e7b32014",
   "metadata": {},
   "outputs": [],
   "source": [
    "#Calculate training and testing error for k=1 to 99, and collect them\n",
    "\n",
    "k_range = list(range(1, 100))\n",
    "training_error = []\n",
    "testing_error = []\n",
    "\n",
    "#Find test accuracy for all values of K between 1 to 99.\n",
    "for k in k_range:\n",
    "\n",
    "#Instantiate the model with the current K value.\n",
    "    knn = KNeighborsClassifier(n_neighbors=k)\n",
    "    knn.fit(X_train, y_train)\n",
    "    \n",
    "#Calculate training error (error = 1 - accuracy).\n",
    "    y_pred_class = knn.predict(X)\n",
    "    training_accuracy = metrics.accuracy_score(y, y_pred_class)\n",
    "    training_error.append(1 - training_accuracy)\n",
    "    \n",
    "#Calculate testing error.\n",
    "    y_pred_class = knn.predict(X_test)\n",
    "    testing_accuracy = metrics.accuracy_score(y_test, y_pred_class)\n",
    "    testing_error.append(1 - testing_accuracy)"
   ]
  },
  {
   "cell_type": "code",
   "execution_count": 21,
   "id": "7ef6d55a",
   "metadata": {},
   "outputs": [
    {
     "data": {
      "text/html": [
       "<div>\n",
       "<style scoped>\n",
       "    .dataframe tbody tr th:only-of-type {\n",
       "        vertical-align: middle;\n",
       "    }\n",
       "\n",
       "    .dataframe tbody tr th {\n",
       "        vertical-align: top;\n",
       "    }\n",
       "\n",
       "    .dataframe thead th {\n",
       "        text-align: right;\n",
       "    }\n",
       "</style>\n",
       "<table border=\"1\" class=\"dataframe\">\n",
       "  <thead>\n",
       "    <tr style=\"text-align: right;\">\n",
       "      <th></th>\n",
       "      <th>training error</th>\n",
       "      <th>testing error</th>\n",
       "    </tr>\n",
       "    <tr>\n",
       "      <th>K</th>\n",
       "      <th></th>\n",
       "      <th></th>\n",
       "    </tr>\n",
       "  </thead>\n",
       "  <tbody>\n",
       "    <tr>\n",
       "      <th>1</th>\n",
       "      <td>0.189088</td>\n",
       "      <td>0.268657</td>\n",
       "    </tr>\n",
       "    <tr>\n",
       "      <th>2</th>\n",
       "      <td>0.198804</td>\n",
       "      <td>0.253731</td>\n",
       "    </tr>\n",
       "    <tr>\n",
       "      <th>3</th>\n",
       "      <td>0.194320</td>\n",
       "      <td>0.268657</td>\n",
       "    </tr>\n",
       "    <tr>\n",
       "      <th>4</th>\n",
       "      <td>0.209268</td>\n",
       "      <td>0.280597</td>\n",
       "    </tr>\n",
       "    <tr>\n",
       "      <th>5</th>\n",
       "      <td>0.213004</td>\n",
       "      <td>0.283582</td>\n",
       "    </tr>\n",
       "  </tbody>\n",
       "</table>\n",
       "</div>"
      ],
      "text/plain": [
       "   training error  testing error\n",
       "K                               \n",
       "1        0.189088       0.268657\n",
       "2        0.198804       0.253731\n",
       "3        0.194320       0.268657\n",
       "4        0.209268       0.280597\n",
       "5        0.213004       0.283582"
      ]
     },
     "execution_count": 21,
     "metadata": {},
     "output_type": "execute_result"
    }
   ],
   "source": [
    "# Allow plots to appear in the notebook.\n",
    "%matplotlib inline\n",
    "import matplotlib.pyplot as plt\n",
    "plt.style.use('seaborn-deep')\n",
    "# Create a DataFrame of K, training error, and testing error.\n",
    "column_dict = {'K': k_range, 'training error':training_error, 'testing error':testing_error}\n",
    "df = pd.DataFrame(column_dict).set_index('K').sort_index(ascending=True)\n",
    "df.head()"
   ]
  },
  {
   "cell_type": "code",
   "execution_count": 22,
   "id": "92beb3c6",
   "metadata": {},
   "outputs": [
    {
     "data": {
      "image/png": "[encoded data removed]",
      "text/plain": [
       "<Figure size 720x576 with 1 Axes>"
      ]
     },
     "metadata": {
      "needs_background": "light"
     },
     "output_type": "display_data"
    }
   ],
   "source": [
    "#Now plot the relation of k and its testing errors\n",
    "df.plot(y='testing error', linewidth=2, figsize=(10, 8));\n",
    "plt.xlabel('Value of K for KNN');\n",
    "plt.ylabel('Error (lower is better)');"
   ]
  },
  {
   "cell_type": "code",
   "execution_count": 23,
   "id": "07fa8439",
   "metadata": {},
   "outputs": [
    {
     "data": {
      "text/html": [
       "<div>\n",
       "<style scoped>\n",
       "    .dataframe tbody tr th:only-of-type {\n",
       "        vertical-align: middle;\n",
       "    }\n",
       "\n",
       "    .dataframe tbody tr th {\n",
       "        vertical-align: top;\n",
       "    }\n",
       "\n",
       "    .dataframe thead th {\n",
       "        text-align: right;\n",
       "    }\n",
       "</style>\n",
       "<table border=\"1\" class=\"dataframe\">\n",
       "  <thead>\n",
       "    <tr style=\"text-align: right;\">\n",
       "      <th></th>\n",
       "      <th>training error</th>\n",
       "      <th>testing error</th>\n",
       "    </tr>\n",
       "    <tr>\n",
       "      <th>K</th>\n",
       "      <th></th>\n",
       "      <th></th>\n",
       "    </tr>\n",
       "  </thead>\n",
       "  <tbody>\n",
       "    <tr>\n",
       "      <th>2</th>\n",
       "      <td>0.198804</td>\n",
       "      <td>0.253731</td>\n",
       "    </tr>\n",
       "    <tr>\n",
       "      <th>9</th>\n",
       "      <td>0.235426</td>\n",
       "      <td>0.262687</td>\n",
       "    </tr>\n",
       "    <tr>\n",
       "      <th>1</th>\n",
       "      <td>0.189088</td>\n",
       "      <td>0.268657</td>\n",
       "    </tr>\n",
       "    <tr>\n",
       "      <th>3</th>\n",
       "      <td>0.194320</td>\n",
       "      <td>0.268657</td>\n",
       "    </tr>\n",
       "    <tr>\n",
       "      <th>11</th>\n",
       "      <td>0.245889</td>\n",
       "      <td>0.274627</td>\n",
       "    </tr>\n",
       "  </tbody>\n",
       "</table>\n",
       "</div>"
      ],
      "text/plain": [
       "    training error  testing error\n",
       "K                                \n",
       "2         0.198804       0.253731\n",
       "9         0.235426       0.262687\n",
       "1         0.189088       0.268657\n",
       "3         0.194320       0.268657\n",
       "11        0.245889       0.274627"
      ]
     },
     "execution_count": 23,
     "metadata": {},
     "output_type": "execute_result"
    }
   ],
   "source": [
    "#The k value with the least testing_error, and when k = 2 are the lowest\n",
    "df.sort_values('testing error').head()"
   ]
  },
  {
   "cell_type": "code",
   "execution_count": 24,
   "id": "b3b5349a",
   "metadata": {},
   "outputs": [
    {
     "data": {
      "image/png": "[encoded data removed]",
      "text/plain": [
       "<Figure size 432x288 with 1 Axes>"
      ]
     },
     "metadata": {
      "needs_background": "light"
     },
     "output_type": "display_data"
    }
   ],
   "source": [
    "#plot out the training and testing errors\n",
    "df.plot();\n",
    "plt.xlabel('Value of K for KNN');\n",
    "plt.ylabel('Error (lower is better)');"
   ]
  },
  {
   "cell_type": "code",
   "execution_count": 25,
   "id": "731ef544",
   "metadata": {},
   "outputs": [
    {
     "name": "stdout",
     "output_type": "stream",
     "text": [
      "[0]\n",
      "1.0\n"
     ]
    }
   ],
   "source": [
    "# Now use the best known number of neighbor as knn\n",
    "knn = KNeighborsClassifier(n_neighbors=2)\n",
    "\n",
    "# Re-train the model with X and y\n",
    "knn.fit(X, y)\n",
    "\n",
    "# Make a prediction for an out-of-sample observation. \n",
    "#The numbers of the array represent 'smoking_habit', 'age', 'BMI_Classification'\n",
    "\n",
    "#As for the 1st values: 0 means non-smoker, 1 means smoker\n",
    "#2nd value is the age, range from 18 to 65\n",
    "\n",
    "#As for the 3rd values:\n",
    "#0: 'Underweight', 1:'Normal', 2:'Overweight', \n",
    "#3:'Class 1 Obese', 4:'Class 2 Obese', 5:'Morbid Obesity'\n",
    "\n",
    "#As for the result value: 0 is less than 5k, 1 is less than 10k, 2 is less than 20k, 3 is more than 20k\n",
    "\n",
    "#\n",
    "#See how much is a 22 years old non-smoker with a normal BMI going to pay \n",
    "#for a hospital visit\n",
    "print(knn.predict(np.array([0,22,1]).reshape(1, -1)))\n",
    "print(np.amax(knn.predict_proba([[0,22,1]])))\n",
    "#result is less than 5k"
   ]
  },
  {
   "cell_type": "code",
   "execution_count": 30,
   "id": "4aee0378",
   "metadata": {},
   "outputs": [
    {
     "name": "stdout",
     "output_type": "stream",
     "text": [
      "[3]\n",
      "1.0\n"
     ]
    }
   ],
   "source": [
    "#What about 27 years old smoker, with the BMI of class 2 obesity\n",
    "print(knn.predict(np.array([1,27,4]).reshape(1, -1)))\n",
    "print(np.amax(knn.predict_proba([[1,27,4]])))\n",
    "#result if more than 20k"
   ]
  },
  {
   "cell_type": "code",
   "execution_count": 31,
   "id": "3d24a1a0",
   "metadata": {},
   "outputs": [
    {
     "name": "stdout",
     "output_type": "stream",
     "text": [
      "[2]\n",
      "1.0\n"
     ]
    }
   ],
   "source": [
    "#What about 65 years old non-smoker, with the BMI of overweight, with 1 child\n",
    "print(knn.predict(np.array([0,65,2]).reshape(1, -1)))\n",
    "print(np.amax(knn.predict_proba([[0,65,2]])))\n",
    "#Result is between 10k to 20k"
   ]
  },
  {
   "cell_type": "code",
   "execution_count": 32,
   "id": "c1d054e3",
   "metadata": {},
   "outputs": [
    {
     "name": "stdout",
     "output_type": "stream",
     "text": [
      "[1]\n",
      "0.5\n"
     ]
    }
   ],
   "source": [
    "#What about 46 years old SE female, smoker, with the BMI of class 1, with no child\n",
    "print(knn.predict(np.array([1,46,0]).reshape(1, -1)))\n",
    "print(np.amax(knn.predict_proba([[1,46,0]])))\n",
    "#Result is between 5k to 10k"
   ]
  },
  {
   "cell_type": "code",
   "execution_count": 33,
   "id": "f99b8c89",
   "metadata": {},
   "outputs": [
    {
     "name": "stdout",
     "output_type": "stream",
     "text": [
      "[0]\n",
      "1.0\n"
     ]
    }
   ],
   "source": [
    "#How much am I going to pay\n",
    "print(knn.predict(np.array([0,28,2]).reshape(1, -1)))\n",
    "print(np.amax(knn.predict_proba([[0,28,2]])))\n",
    "#I am going to pay less than 5k"
   ]
  },
  {
   "cell_type": "code",
   "execution_count": 34,
   "id": "bc12582d",
   "metadata": {},
   "outputs": [],
   "source": [
    "#Now doing it with GridSearchCV"
   ]
  },
  {
   "cell_type": "code",
   "execution_count": 35,
   "id": "644cc228",
   "metadata": {},
   "outputs": [
    {
     "name": "stdout",
     "output_type": "stream",
     "text": [
      "[0.7309417  0.73542601 0.71973094]\n"
     ]
    }
   ],
   "source": [
    "# instantiate model, with knn=2 from the past model\n",
    "knn = KNeighborsClassifier(n_neighbors=2)\n",
    "\n",
    "# Capture our cross validation scores\n",
    "scores = cross_val_score(knn, X, y, cv=3, scoring='accuracy')\n",
    "print(scores)"
   ]
  },
  {
   "cell_type": "code",
   "execution_count": 36,
   "id": "347dbbde",
   "metadata": {},
   "outputs": [
    {
     "name": "stdout",
     "output_type": "stream",
     "text": [
      "0.7286995515695067\n"
     ]
    }
   ],
   "source": [
    "#calculate the mean to give us an estimate of out-of-sample accuracy\n",
    "print(scores.mean())"
   ]
  },
  {
   "cell_type": "code",
   "execution_count": 37,
   "id": "3fd09646",
   "metadata": {},
   "outputs": [
    {
     "name": "stdout",
     "output_type": "stream",
     "text": [
      "[0.7212257100149477, 0.7286995515695067, 0.7473841554559043, 0.7055306427503737, 0.7242152466367712, 0.7092675635276532, 0.7279521674140508, 0.710762331838565, 0.7092675635276532, 0.7085201793721972, 0.7130044843049328, 0.7130044843049327, 0.7010463378176383, 0.6935724962630792, 0.6988041853512706, 0.6890881913303438, 0.6868460388639761, 0.6808669656203289, 0.6808669656203289]\n"
     ]
    }
   ],
   "source": [
    "#List of integers 1 to 19\n",
    "k_range = range(1, 20)\n",
    "#List of scores from k_range\n",
    "k_scores = []\n",
    "#We will loop through reasonable values of k\n",
    "for k in k_range:\n",
    "#Run KNeighborsClassifier with k neighbours\n",
    "    knn = KNeighborsClassifier(n_neighbors=k)\n",
    "#Obtain cross_val_score for KNeighborsClassifier with k neighbours\n",
    "    scores = cross_val_score(knn, X, y, cv=3, scoring='accuracy')\n",
    "#Append mean of scores for k neighbors to k_scores list\n",
    "    k_scores.append(scores.mean())\n",
    "print(k_scores)"
   ]
  },
  {
   "cell_type": "code",
   "execution_count": 38,
   "id": "4292007f",
   "metadata": {},
   "outputs": [
    {
     "data": {
      "text/plain": [
       "{1: 0.7212257100149477,\n",
       " 2: 0.7286995515695067,\n",
       " 3: 0.7473841554559043,\n",
       " 4: 0.7055306427503737,\n",
       " 5: 0.7242152466367712,\n",
       " 6: 0.7092675635276532,\n",
       " 7: 0.7279521674140508,\n",
       " 8: 0.710762331838565,\n",
       " 9: 0.7092675635276532,\n",
       " 10: 0.7085201793721972,\n",
       " 11: 0.7130044843049328,\n",
       " 12: 0.7130044843049327,\n",
       " 13: 0.7010463378176383,\n",
       " 14: 0.6935724962630792,\n",
       " 15: 0.6988041853512706,\n",
       " 16: 0.6890881913303438,\n",
       " 17: 0.6868460388639761,\n",
       " 18: 0.6808669656203289,\n",
       " 19: 0.6808669656203289}"
      ]
     },
     "execution_count": 38,
     "metadata": {},
     "output_type": "execute_result"
    }
   ],
   "source": [
    "#k_scores by different k_values from 1 to 19\n",
    "k_dict=dict(zip(k_range,k_scores))\n",
    "k_dict"
   ]
  },
  {
   "cell_type": "code",
   "execution_count": 43,
   "id": "d1b03b03",
   "metadata": {},
   "outputs": [
    {
     "data": {
      "text/plain": [
       "3"
      ]
     },
     "execution_count": 43,
     "metadata": {},
     "output_type": "execute_result"
    }
   ],
   "source": [
    "#the k that gave us our highest score is\n",
    "max(k_dict, key= k_dict.get)\n",
    "#maybe I should set the k score as 3 when predicting"
   ]
  },
  {
   "cell_type": "code",
   "execution_count": 44,
   "id": "dda43829",
   "metadata": {},
   "outputs": [
    {
     "name": "stdout",
     "output_type": "stream",
     "text": [
      "{'n_neighbors': [1, 2, 3, 4, 5, 6, 7, 8, 9, 10, 11, 12, 13, 14, 15, 16, 17, 18, 19]}\n"
     ]
    }
   ],
   "source": [
    "param_grid=dict(n_neighbors=list(k_range))\n",
    "print(param_grid)"
   ]
  },
  {
   "cell_type": "code",
   "execution_count": 45,
   "id": "50689b41",
   "metadata": {},
   "outputs": [],
   "source": [
    "# instantiate a GridSearch object - here a classifier (clf)\n",
    "clf = GridSearchCV(knn, param_grid, cv=3, scoring='accuracy', return_train_score=True)"
   ]
  },
  {
   "cell_type": "code",
   "execution_count": 46,
   "id": "32dc6a3d",
   "metadata": {},
   "outputs": [
    {
     "data": {
      "text/plain": [
       "GridSearchCV(cv=3, estimator=KNeighborsClassifier(n_neighbors=19),\n",
       "             param_grid={'n_neighbors': [1, 2, 3, 4, 5, 6, 7, 8, 9, 10, 11, 12,\n",
       "                                         13, 14, 15, 16, 17, 18, 19]},\n",
       "             return_train_score=True, scoring='accuracy')"
      ]
     },
     "execution_count": 46,
     "metadata": {},
     "output_type": "execute_result"
    }
   ],
   "source": [
    "clf.fit(X,y)"
   ]
  },
  {
   "cell_type": "code",
   "execution_count": 47,
   "id": "bcb3960c",
   "metadata": {},
   "outputs": [
    {
     "data": {
      "text/plain": [
       "(0.7473841554559043, {'n_neighbors': 3})"
      ]
     },
     "execution_count": 47,
     "metadata": {},
     "output_type": "execute_result"
    }
   ],
   "source": [
    "# Slice by the key/value pairs, seems like 4 is the best knn value\n",
    "knn_score=list(zip(clf.cv_results_['mean_test_score'],clf.cv_results_['params']))\n",
    "\n",
    "sorted(knn_score,key=lambda x: x[0],reverse=True)[0]"
   ]
  },
  {
   "cell_type": "code",
   "execution_count": 48,
   "id": "9c530695",
   "metadata": {},
   "outputs": [
    {
     "name": "stdout",
     "output_type": "stream",
     "text": [
      "0.7473841554559043\n",
      "{'n_neighbors': 3}\n",
      "KNeighborsClassifier(n_neighbors=3)\n"
     ]
    }
   ],
   "source": [
    "print(clf.best_score_)\n",
    "print(clf.best_params_)\n",
    "print(clf.best_estimator_)"
   ]
  },
  {
   "cell_type": "code",
   "execution_count": 49,
   "id": "23785a23",
   "metadata": {},
   "outputs": [
    {
     "data": {
      "text/plain": [
       "KNeighborsClassifier(n_neighbors=3)"
      ]
     },
     "execution_count": 49,
     "metadata": {},
     "output_type": "execute_result"
    }
   ],
   "source": [
    "#instantiate model with best parameters of knn=3, and fit it\n",
    "knn = KNeighborsClassifier(n_neighbors=3, weights='uniform')\n",
    "knn.fit(X,y)"
   ]
  },
  {
   "cell_type": "code",
   "execution_count": 50,
   "id": "f8169230",
   "metadata": {},
   "outputs": [
    {
     "name": "stdout",
     "output_type": "stream",
     "text": [
      "[0]\n",
      "[3]\n",
      "[2]\n",
      "[1]\n",
      "[0]\n"
     ]
    }
   ],
   "source": [
    "#Now predict the persona I created earlier. Again, it is [smoker status, age, BMI level]\n",
    "\n",
    "print(knn.predict([[0,22,1]]))\n",
    "print(knn.predict([[1,27,4]]))\n",
    "print(knn.predict([[0,65,2]]))\n",
    "print(knn.predict([[1,46,0]]))\n",
    "print(knn.predict([[0,28,2]]))\n",
    "\n",
    "#The results are still the same"
   ]
  },
  {
   "cell_type": "code",
   "execution_count": null,
   "id": "945d784f",
   "metadata": {},
   "outputs": [],
   "source": []
  }
 ],
 "metadata": {
  "kernelspec": {
   "display_name": "Python 3",
   "language": "python",
   "name": "python3"
  },
  "language_info": {
   "codemirror_mode": {
    "name": "ipython",
    "version": 3
   },
   "file_extension": ".py",
   "mimetype": "text/x-python",
   "name": "python",
   "nbconvert_exporter": "python",
   "pygments_lexer": "ipython3",
   "version": "3.7.4"
  }
 },
 "nbformat": 4,
 "nbformat_minor": 5
}
